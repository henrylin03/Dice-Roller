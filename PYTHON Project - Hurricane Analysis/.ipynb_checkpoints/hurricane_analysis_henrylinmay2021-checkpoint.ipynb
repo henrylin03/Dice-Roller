{
 "cells": [
  {
   "cell_type": "code",
   "execution_count": 1,
   "metadata": {
    "scrolled": true
   },
   "outputs": [],
   "source": [
    "# names of hurricanes\n",
    "names = ['Cuba I', 'San Felipe II Okeechobee', 'Bahamas', 'Cuba II', 'CubaBrownsville', 'Tampico', 'Labor Day', 'New England', 'Carol', 'Janet', 'Carla', 'Hattie', 'Beulah', 'Camille', 'Edith', 'Anita', 'David', 'Allen', 'Gilbert', 'Hugo', 'Andrew', 'Mitch', 'Isabel', 'Ivan', 'Emily', 'Katrina', 'Rita', 'Wilma', 'Dean', 'Felix', 'Matthew', 'Irma', 'Maria', 'Michael']\n",
    "\n",
    "# months of hurricanes\n",
    "months = ['October', 'September', 'September', 'November', 'August', 'September', 'September', 'September', 'September', 'September', 'September', 'October', 'September', 'August', 'September', 'September', 'August', 'August', 'September', 'September', 'August', 'October', 'September', 'September', 'July', 'August', 'September', 'October', 'August', 'September', 'October', 'September', 'September', 'October']\n",
    "\n",
    "# years of hurricanes\n",
    "years = [1924, 1928, 1932, 1932, 1933, 1933, 1935, 1938, 1953, 1955, 1961, 1961, 1967, 1969, 1971, 1977, 1979, 1980, 1988, 1989, 1992, 1998, 2003, 2004, 2005, 2005, 2005, 2005, 2007, 2007, 2016, 2017, 2017, 2018]\n",
    "\n",
    "# maximum sustained winds (mph) of hurricanes\n",
    "max_sustained_winds = [165, 160, 160, 175, 160, 160, 185, 160, 160, 175, 175, 160, 160, 175, 160, 175, 175, 190, 185, 160, 175, 180, 165, 165, 160, 175, 180, 185, 175, 175, 165, 180, 175, 160]\n",
    "\n",
    "# areas affected by each hurricane\n",
    "areas_affected = [['Central America', 'Mexico', 'Cuba', 'Florida', 'The Bahamas'], ['Lesser Antilles', 'The Bahamas', 'United States East Coast', 'Atlantic Canada'], ['The Bahamas', 'Northeastern United States'], ['Lesser Antilles', 'Jamaica', 'Cayman Islands', 'Cuba', 'The Bahamas', 'Bermuda'], ['The Bahamas', 'Cuba', 'Florida', 'Texas', 'Tamaulipas'], ['Jamaica', 'Yucatn Peninsula'], ['The Bahamas', 'Florida', 'Georgia', 'The Carolinas', 'Virginia'], ['Southeastern United States', 'Northeastern United States', 'Southwestern Quebec'], ['Bermuda', 'New England', 'Atlantic Canada'], ['Lesser Antilles', 'Central America'], ['Texas', 'Louisiana', 'Midwestern United States'], ['Central America'], ['The Caribbean', 'Mexico', 'Texas'], ['Cuba', 'United States Gulf Coast'], ['The Caribbean', 'Central America', 'Mexico', 'United States Gulf Coast'], ['Mexico'], ['The Caribbean', 'United States East coast'], ['The Caribbean', 'Yucatn Peninsula', 'Mexico', 'South Texas'], ['Jamaica', 'Venezuela', 'Central America', 'Hispaniola', 'Mexico'], ['The Caribbean', 'United States East Coast'], ['The Bahamas', 'Florida', 'United States Gulf Coast'], ['Central America', 'Yucatn Peninsula', 'South Florida'], ['Greater Antilles', 'Bahamas', 'Eastern United States', 'Ontario'], ['The Caribbean', 'Venezuela', 'United States Gulf Coast'], ['Windward Islands', 'Jamaica', 'Mexico', 'Texas'], ['Bahamas', 'United States Gulf Coast'], ['Cuba', 'United States Gulf Coast'], ['Greater Antilles', 'Central America', 'Florida'], ['The Caribbean', 'Central America'], ['Nicaragua', 'Honduras'], ['Antilles', 'Venezuela', 'Colombia', 'United States East Coast', 'Atlantic Canada'], ['Cape Verde', 'The Caribbean', 'British Virgin Islands', 'U.S. Virgin Islands', 'Cuba', 'Florida'], ['Lesser Antilles', 'Virgin Islands', 'Puerto Rico', 'Dominican Republic', 'Turks and Caicos Islands'], ['Central America', 'United States Gulf Coast (especially Florida Panhandle)']]\n",
    "\n",
    "# damages (USD($)) of hurricanes\n",
    "damages = ['Damages not recorded', '100M', 'Damages not recorded', '40M', '27.9M', '5M', 'Damages not recorded', '306M', '2M', '65.8M', '326M', '60.3M', '208M', '1.42B', '25.4M', 'Damages not recorded', '1.54B', '1.24B', '7.1B', '10B', '26.5B', '6.2B', '5.37B', '23.3B', '1.01B', '125B', '12B', '29.4B', '1.76B', '720M', '15.1B', '64.8B', '91.6B', '25.1B']\n",
    "\n",
    "# deaths for each hurricane\n",
    "deaths = [90,4000,16,3103,179,184,408,682,5,1023,43,319,688,259,37,11,2068,269,318,107,65,19325,51,124,17,1836,125,87,45,133,603,138,3057,74]"
   ]
  },
  {
   "cell_type": "code",
   "execution_count": 2,
   "metadata": {
    "scrolled": true
   },
   "outputs": [],
   "source": [
    "# function to convert damages data from string to float, and return converted damages as a list:\n",
    "def updating_damages_data(damages):\n",
    "    conversion = {\"M\": 1000000, \"B\": 1000000000} # conversion dictionary\n",
    "    updated_damages = []\n",
    "    \n",
    "    for damage in damages:\n",
    "        if damage == \"Damages not recorded\":\n",
    "            updated_damages.append(damage)\n",
    "        if damage[-1] == 'M':\n",
    "            updated_damages.append(float(damage.strip('M'))*conversion[\"M\"]) # removing the suffix, converting to float, and multiplying by conversion dictionary value if suffix detected\n",
    "        if damage[-1] == 'B':\n",
    "            updated_damages.append(float(damage.strip('B'))*conversion[\"B\"]) # same as above\n",
    "            \n",
    "    return updated_damages\n",
    "\n",
    "updated_damages = updating_damages_data(damages)\n",
    "\n",
    "#print(updated_damages)"
   ]
  },
  {
   "cell_type": "code",
   "execution_count": 3,
   "metadata": {
    "scrolled": true
   },
   "outputs": [],
   "source": [
    "# function to create a dictionary from lists for each hurricane:\n",
    "def dictionary_creator(names, months, years, max_sustained_winds, areas_affected, updated_damages, deaths):\n",
    "    hurricanes = {}\n",
    "    num_hurricanes = len(names)\n",
    "    for i in range (num_hurricanes): # creating a \"for\" loop to cycle through various lists as values to key\n",
    "        hurricanes[names[i]] = {\"Name\": names[i],\n",
    "                               \"Month\": months[i],\n",
    "                               \"Year\": years[i],\n",
    "                               \"Max Sustained Wind\": max_sustained_winds[i],\n",
    "                               \"Areas Affected\": areas_affected[i],\n",
    "                               \"Damage\": updated_damages[i],\n",
    "                               \"Deaths\": deaths[i]}\n",
    "    return hurricanes\n",
    "\n",
    "hurricanes = dictionary_creator(names, months, years, max_sustained_winds, areas_affected, updated_damages, deaths)\n",
    "\n",
    "#print(hurricanes)"
   ]
  },
  {
   "cell_type": "code",
   "execution_count": 4,
   "metadata": {},
   "outputs": [],
   "source": [
    "# function to convert hurricane_dictionary to new dictionary where keys are years\n",
    "\n",
    "def hurricanes_by_year_creator(hurricanes):\n",
    "    hurricanes_by_year = {}\n",
    "    for h in hurricanes: # looping through existing hurricane_dictionary\n",
    "        current_year = hurricanes[h]['Year']\n",
    "        current_hurricane = hurricanes[h]\n",
    "        if current_year not in hurricanes_by_year: # adds in years where hurricane happened if it was not already in new dictionary\n",
    "            hurricanes_by_year[current_year] = [current_hurricane]\n",
    "        else: # if the year already exists (for another hurricane), then the current hurricane will be added onto value as a another list item\n",
    "            hurricanes_by_year[current_year].append(current_hurricane)\n",
    "    return hurricanes_by_year\n",
    "\n",
    "hurricanes_by_year = hurricanes_by_year_creator(hurricanes)\n",
    "#print(hurricanes_by_year[1932])\n"
   ]
  },
  {
   "cell_type": "code",
   "execution_count": 5,
   "metadata": {},
   "outputs": [],
   "source": [
    "# write your count affected areas function here:\n",
    "\n",
    "def affected_areas_counter(hurricanes):\n",
    "    affected_areas_counted = {}\n",
    "    for cane in hurricanes:\n",
    "        for area in hurricanes[cane][\"Areas Affected\"]: # looping through each hurricane's \"Areas Affected\" value\n",
    "            if area not in affected_areas_counted: \n",
    "                affected_areas_counted[area] = 1\n",
    "            else:\n",
    "                affected_areas_counted[area] += 1\n",
    "    return affected_areas_counted\n",
    "\n",
    "affected_areas_counted = affected_areas_counter(hurricanes)\n",
    "\n",
    "#print(areas_affected_counted)"
   ]
  },
  {
   "cell_type": "code",
   "execution_count": 6,
   "metadata": {},
   "outputs": [
    {
     "name": "stdout",
     "output_type": "stream",
     "text": [
      "('Central America', 9)\n"
     ]
    }
   ],
   "source": [
    "# write your find most affected area function here:\n",
    "\n",
    "def most_affected_area_finder(affected_areas_counted):\n",
    "    max_area_count = 0\n",
    "    for area in affected_areas_counted:\n",
    "        if affected_areas_counted[area] > max_area_count:\n",
    "            max_area = area\n",
    "            max_area_count = affected_areas_counted[area]\n",
    "    return max_area, max_area_count \n",
    "\n",
    "print(most_affected_area_finder(affected_areas_counted))"
   ]
  },
  {
   "cell_type": "code",
   "execution_count": 7,
   "metadata": {},
   "outputs": [
    {
     "name": "stdout",
     "output_type": "stream",
     "text": [
      "('Mitch', 19325)\n"
     ]
    }
   ],
   "source": [
    "# write your greatest number of deaths function here:\n",
    "\n",
    "def max_mortality_finder(hurricanes):\n",
    "    max_mortality = 0\n",
    "    for cane in hurricanes:\n",
    "        if hurricanes[cane][\"Deaths\"] > max_mortality:\n",
    "            max_mortality_cane = cane\n",
    "            max_mortality = hurricanes[cane][\"Deaths\"]\n",
    "        # \"continue\" not necessary\n",
    "    return max_mortality_cane, max_mortality\n",
    "\n",
    "print(max_mortality_finder(hurricanes))"
   ]
  },
  {
   "cell_type": "code",
   "execution_count": 8,
   "metadata": {},
   "outputs": [],
   "source": [
    "# write your catgeorize by mortality function here:\n",
    "\n",
    "def canes_by_deaths_categorizer(hurricanes):\n",
    "    mortality_scale = {0: 0,\n",
    "                       1: 100,\n",
    "                       2: 500,\n",
    "                       3: 1000,\n",
    "                       4: 10000}\n",
    "    hurricanes_by_mortality = {0:[], 1:[], 2:[], 3:[], 4:[], 5:[]}\n",
    "    \n",
    "    \n",
    "    for cane in hurricanes: # note to self: if there is a way to run two loops, one would also be the mortality scale keys -- this will make life much easier!\n",
    "        num_deaths = hurricanes[cane][\"Deaths\"]\n",
    "        if num_deaths == mortality_scale[0]:\n",
    "            hurricanes_by_mortality[0].append(hurricanes[cane])\n",
    "        elif num_deaths > mortality_scale[0] and num_deaths < mortality_scale[1]:\n",
    "            hurricanes_by_mortality[1].append(hurricanes[cane])\n",
    "        elif num_deaths > mortality_scale[1] and num_deaths < mortality_scale[2]:\n",
    "            hurricanes_by_mortality[2].append(hurricanes[cane])\n",
    "        elif num_deaths > mortality_scale[2] and num_deaths < mortality_scale[3]:\n",
    "            hurricanes_by_mortality[3].append(hurricanes[cane])\n",
    "        elif num_deaths > mortality_scale[3] and num_deaths < mortality_scale[4]:\n",
    "            hurricanes_by_mortality[4].append(hurricanes[cane])\n",
    "        elif num_deaths > mortality_scale[4]:\n",
    "            hurricanes_by_mortality[5].append(hurricanes[cane])\n",
    "    return hurricanes_by_mortality\n",
    "\n",
    "hurricanes_by_mortality = canes_by_deaths_categorizer(hurricanes)\n",
    "# print(hurricanes_by_mortality[5])"
   ]
  },
  {
   "cell_type": "code",
   "execution_count": 9,
   "metadata": {},
   "outputs": [],
   "source": [
    "# write your greatest damage function here:\n",
    "\n",
    "def greatest_dmg_finder(hurricanes):\n",
    "    max_dmg = 0\n",
    "    for cane in hurricanes:\n",
    "        if hurricanes[cane][\"Damage\"] == \"Damages not recorded\": # if I did not do this part, it will say I'm trying to compare a string (these words) with float\n",
    "            pass # used \"continue\" and got same result, but \"pass\" continues processing, whereas continue jumps back to start of loop\n",
    "        elif hurricanes[cane][\"Damage\"] > max_dmg:\n",
    "            max_dmg_cane = cane\n",
    "            max_dmg = hurricanes[cane][\"Damage\"]\n",
    "    return max_dmg_cane, max_dmg\n",
    "\n",
    "# print(greatest_dmg_finder(hurricanes))"
   ]
  },
  {
   "cell_type": "code",
   "execution_count": 16,
   "metadata": {},
   "outputs": [],
   "source": [
    "# write your catgeorize by damage function here:\n",
    "\n",
    "\n",
    "def canes_by_dmg_categorizer(hurricanes):\n",
    "    damage_scale = {0: 0,\n",
    "                    1: 100000000,\n",
    "                    2: 1000000000,\n",
    "                    3: 10000000000,\n",
    "                    4: 50000000000}\n",
    "    canes_by_dmg = {0:[], 1:[], 2:[], 3:[], 4:[], 5:[]}\n",
    "    \n",
    "    for cane in hurricanes:\n",
    "        dmg = hurricanes[cane][\"Damage\"]\n",
    "        if dmg == \"Damages not recorded\":\n",
    "            canes_by_dmg[0].append(hurricanes[cane])\n",
    "        elif dmg > damage_scale[0] and dmg < damage_scale[1]:\n",
    "            canes_by_dmg[1].append(hurricanes[cane])\n",
    "        elif dmg > damage_scale[1] and dmg < damage_scale[2]:\n",
    "            canes_by_dmg[2].append(hurricanes[cane])\n",
    "        elif dmg > damage_scale[2] and dmg < damage_scale[3]:\n",
    "            canes_by_dmg[3].append(hurricanes[cane])\n",
    "        elif dmg > damage_scale[3] and dmg < damage_scale[4]:\n",
    "            canes_by_dmg[4].append(hurricanes[cane])\n",
    "        elif dmg > damage_scale[4]:\n",
    "            canes_by_dmg[5].append(hurricanes[cane])\n",
    "    return canes_by_dmg\n",
    "\n",
    "canes_by_dmg = canes_by_dmg_categorizer(hurricanes)\n",
    "# print(canes_by_dmg)"
   ]
  },
  {
   "cell_type": "code",
   "execution_count": null,
   "metadata": {},
   "outputs": [],
   "source": []
  }
 ],
 "metadata": {
  "kernelspec": {
   "display_name": "Python 3",
   "language": "python",
   "name": "python3"
  },
  "language_info": {
   "codemirror_mode": {
    "name": "ipython",
    "version": 3
   },
   "file_extension": ".py",
   "mimetype": "text/x-python",
   "name": "python",
   "nbconvert_exporter": "python",
   "pygments_lexer": "ipython3",
   "version": "3.8.5"
  }
 },
 "nbformat": 4,
 "nbformat_minor": 4
}
